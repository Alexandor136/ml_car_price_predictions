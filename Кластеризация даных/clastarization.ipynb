{
 "cells": [
  {
   "cell_type": "code",
   "execution_count": 28,
   "metadata": {},
   "outputs": [
    {
     "name": "stderr",
     "output_type": "stream",
     "text": [
      "C:\\Users\\Sablin-aa.BIRYUSA\\AppData\\Local\\Temp\\ipykernel_10864\\2970793748.py:7: FutureWarning: DataFrame.applymap has been deprecated. Use DataFrame.map instead.\n",
      "  data = data.applymap(lambda x: str(x).replace('�', '') if isinstance(x, str) else x)\n"
     ]
    },
    {
     "name": "stdout",
     "output_type": "stream",
     "text": [
      "Очищенные данные:\n",
      "       IDX_FIRSTSTART          DATETIME      T1     MSEC      T2 PACTIVE  \\\n",
      "0             176 583  16.05.2023 09:55  27,700  650,000  27,800  97,155   \n",
      "1             176 584  16.05.2023 09:55  27,700  664,000  27,800  98,385   \n",
      "2             176 585  16.05.2023 09:55  27,700  678,000  27,800  98,385   \n",
      "3             176 586  16.05.2023 09:55  27,700  692,000  27,800  97,155   \n",
      "4             176 587  16.05.2023 09:55  27,700  706,000  27,800  97,155   \n",
      "...               ...               ...     ...      ...     ...     ...   \n",
      "746665        865 744  16.06.2023 16:11  30,800  792,000  30,900   0,100   \n",
      "746666        865 745  16.06.2023 16:11  30,800  806,000  30,900   0,100   \n",
      "746667        865 746  16.06.2023 16:12  30,800  814,000  30,900   0,100   \n",
      "746668        865 747  16.06.2023 16:12  30,800  814,000  30,900   0,100   \n",
      "746669        865 748  16.06.2023 16:12  30,800  824,000  30,900   0,100   \n",
      "\n",
      "        PCOEF     PMAX PREACTIVE APROXAVG  \n",
      "0       0,671  144,729   107,272  550,957  \n",
      "1       0,673  146,171   108,103  550,957  \n",
      "2       0,673  146,180   108,115  340,658  \n",
      "3       0,671  144,749   107,299  267,075  \n",
      "4       0,665  146,182   109,224  228,745  \n",
      "...       ...      ...       ...      ...  \n",
      "746665  0,100    0,100     0,100      NaN  \n",
      "746666  0,100    0,100     0,100      NaN  \n",
      "746667  0,100    0,100     0,100      NaN  \n",
      "746668  0,100    0,100     0,100      NaN  \n",
      "746669  0,100    0,100     0,100      NaN  \n",
      "\n",
      "[746670 rows x 10 columns]\n"
     ]
    }
   ],
   "source": [
    "import pandas as pd\n",
    "\n",
    "# Читаем данные из CSV файла\n",
    "data = pd.read_csv('data.csv', sep=';', engine='python', encoding='ISO-8859-1')\n",
    "\n",
    "# Удаляем нежелательные символы (в данном случае это символ �)\n",
    "data = data.applymap(lambda x: str(x).replace('�', '') if isinstance(x, str) else x)\n",
    "data['IDX_FIRSTSTART'] = data['IDX_FIRSTSTART'].astype(str).str.replace(' ', '', regex=False)\n",
    "# Выводим очищенные данные (по желанию, для проверки)\n",
    "print(\"Очищенные данные:\")\n",
    "print(data)\n",
    "\n",
    "# Сохраняем очищенные данные в новый CSV файл\n",
    "data.to_csv('cleaned_data.csv', sep=';', index=False, encoding='utf-8')\n"
   ]
  },
  {
   "cell_type": "code",
   "execution_count": null,
   "metadata": {},
   "outputs": [],
   "source": []
  }
 ],
 "metadata": {
  "kernelspec": {
   "display_name": "Python 3",
   "language": "python",
   "name": "python3"
  },
  "language_info": {
   "codemirror_mode": {
    "name": "ipython",
    "version": 3
   },
   "file_extension": ".py",
   "mimetype": "text/x-python",
   "name": "python",
   "nbconvert_exporter": "python",
   "pygments_lexer": "ipython3",
   "version": "3.13.2"
  }
 },
 "nbformat": 4,
 "nbformat_minor": 2
}
